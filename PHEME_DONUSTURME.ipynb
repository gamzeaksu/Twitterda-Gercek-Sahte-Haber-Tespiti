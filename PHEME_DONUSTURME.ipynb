{
 "cells": [
  {
   "cell_type": "markdown",
   "metadata": {},
   "source": [
    "# TWITTER PLATFORMUNDA SAHTE GERÇEK HABER TESPİTİ"
   ]
  },
  {
   "cell_type": "code",
   "execution_count": 1,
   "metadata": {},
   "outputs": [],
   "source": [
    "import json\n",
    "import pandas as pd\n",
    "import os"
   ]
  },
  {
   "cell_type": "code",
   "execution_count": 2,
   "metadata": {},
   "outputs": [],
   "source": [
    "def text_alma(idx): \n",
    "    f = open(source[idx])\n",
    "    data = json.load(f)\n",
    "    f.close()\n",
    "    return data[\"text\"]\n",
    "\n",
    "def rumour_alma(idx): \n",
    "    f = open(annotations[idx])\n",
    "    data = json.load(f)\n",
    "    f.close()\n",
    "    return data[\"is_rumour\"]"
   ]
  },
  {
   "cell_type": "code",
   "execution_count": 3,
   "metadata": {
    "scrolled": true
   },
   "outputs": [],
   "source": [
    "df = pd.DataFrame(columns = [\"ID\",\"Event\",\"Text\",\"Rumour\"])\n",
    "path_ = \"C:/Users/CASPER/Desktop/all-rnr-annotated-threads\"\n",
    "\n",
    "events = []\n",
    "tweetID=[]\n",
    "for _, altDizinler, _ in os.walk(path_):\n",
    "    events = altDizinler\n",
    "    break"
   ]
  },
  {
   "cell_type": "code",
   "execution_count": 4,
   "metadata": {},
   "outputs": [],
   "source": [
    "idx = 0\n",
    "for event in events:\n",
    "    \n",
    "    path = path_ + \"/\"+event+\"/non-rumours/\"\n",
    "    for _, altDizinler, _ in os.walk(path):\n",
    "        tweetID = altDizinler\n",
    "        break\n",
    "    annotations = []\n",
    "    source = []    \n",
    "    for i in range(len(tweetID)):\n",
    "        annotations.append(path+tweetID[i]+'/annotation.json') \n",
    "        source.append(path+tweetID[i]+'/source-tweets/'+tweetID[i]+\".json\") \n",
    "        df.loc[idx] = tweetID[i],event,text_alma(i),rumour_alma(i)\n",
    "        idx +=1    \n",
    "        \n",
    "    path = path_ + \"/\"+event+\"/rumours/\"\n",
    "    for _, altDizinler, _ in os.walk(path):\n",
    "        tweetID = altDizinler\n",
    "        break\n",
    "    annotations = []\n",
    "    source = []   \n",
    "    for i in range(len(tweetID)):\n",
    "        annotations.append(path+tweetID[i]+'/annotation.json') \n",
    "        source.append(path+tweetID[i]+'/source-tweets/'+tweetID[i]+\".json\") \n",
    "        df.loc[idx] = tweetID[i],event,text_alma(i),rumour_alma(i)\n",
    "        idx +=1"
   ]
  },
  {
   "cell_type": "code",
   "execution_count": 5,
   "metadata": {},
   "outputs": [
    {
     "data": {
      "text/plain": [
       "(6425, 4)"
      ]
     },
     "execution_count": 5,
     "metadata": {},
     "output_type": "execute_result"
    }
   ],
   "source": [
    "df.shape"
   ]
  },
  {
   "cell_type": "code",
   "execution_count": 8,
   "metadata": {},
   "outputs": [],
   "source": [
    "df.to_csv(r'C:\\Users\\CASPER\\Desktop\\pheme.csv',index=False)"
   ]
  },
  {
   "cell_type": "code",
   "execution_count": null,
   "metadata": {},
   "outputs": [],
   "source": [
    "data = pd.read_csv(r'C:\\Users\\CASPER\\Desktop\\pheme.csv')"
   ]
  }
 ],
 "metadata": {
  "kernelspec": {
   "display_name": "Python 3",
   "language": "python",
   "name": "python3"
  },
  "language_info": {
   "codemirror_mode": {
    "name": "ipython",
    "version": 3
   },
   "file_extension": ".py",
   "mimetype": "text/x-python",
   "name": "python",
   "nbconvert_exporter": "python",
   "pygments_lexer": "ipython3",
   "version": "3.8.3"
  }
 },
 "nbformat": 4,
 "nbformat_minor": 4
}
